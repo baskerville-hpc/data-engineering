{
 "cells": [
  {
   "attachments": {},
   "cell_type": "markdown",
   "id": "ba0afcf8",
   "metadata": {},
   "source": [
    "<a href=\"https://www.eventsforce.net/turingevents/frontend/reg/thome.csp?pageID=89551&eventID=249&traceRedir=2\"> <img src=\"images/turing.png\" alt=\"Header\" style=\"height: 200px;\" align=\"left\"/> </a> <a href=\"https://www.baskerville.ac.uk/\"> <img src=\"images/baskerville.png\" alt=\"Header\" style=\"height: 200px;\" /> </a> <a href=\"https://www.nvidia.com/dli\"> <img src=\"images/DLI_Header.png\" alt=\"Header\" style=\"width: 400px;\" align=\"right\"/> </a>"
   ]
  },
  {
   "attachments": {},
   "cell_type": "markdown",
   "id": "9c6672ac",
   "metadata": {},
   "source": [
    "# Challenge Notebook - copy\n",
    "## Baskerville — Accelerate your research with GPUs 2023 "
   ]
  },
  {
   "cell_type": "markdown",
   "id": "3ac2567a",
   "metadata": {},
   "source": [
    "This challenge is based on part of the NVIDIA DLI course for Accelerating Data Engineering Pipelines."
   ]
  },
  {
   "cell_type": "markdown",
   "id": "a9523ad6",
   "metadata": {},
   "source": [
    "Here's the story - You have inherited this Jupyter notebook from a coworker who has gone away on vacation but *ughhhh* it is so slow! They have kindly left us a handoff list with ideas on how to improve the code."
   ]
  },
  {
   "cell_type": "markdown",
   "id": "00216ac3",
   "metadata": {},
   "source": [
    "---\n",
    "\n",
    "*Dear Colleague,*\n",
    "\n",
    "*I do not know how long I will stay on this tropical island. Hopefully forever. Here is small list of things I wish I could have done:*\n",
    "\n",
    "- *right now I am only reading data for one station - how do I get all of them?*\n",
    "- *for efficiency, I only want to load the columns \"STATION\", \"LATITUDE\", \"LONGITUDE\", \"DlySum\" and \"DATE\" from the data*\n",
    "- *I think I need to clean the data - I'm pretty sure there are NA or anomalous values*\n",
    "- *if I did load all of data, I better check that it loaded correctly using `df.describe()` this somewhere*\n",
    "- *the rainfall data is in units of hundredths of inches, I should probably convert this into centimetres*\n",
    "- *I'd like to visualise a single day's worth of rainfall on a map - but I forget how to use the Boolean conditions to filter the dataframe*\n",
    "- *before plotting I should send the data to the host*\n",
    "- *I need to figure out how to use `Scattergeo` to plot rainfall on a map - at least I have the \"LATITUDE\" and \"LONGITUDE\" data*\n",
    "\n",
    "If I implement the above, then I believe I can run this notebook in under **70** seconds using the ⏩  button.\n",
    "\n",
    "*Best wishes,*\n",
    "\n",
    "*Madame Kay Oss*\n",
    "\n",
    "---"
   ]
  },
  {
   "cell_type": "code",
   "execution_count": null,
   "id": "b18fe5b2",
   "metadata": {},
   "outputs": [],
   "source": [
    "##NOTE: don't change this cell, we will use this to keep track of how long your notebook takes to execute\n",
    "from time import time\n",
    "time_start = time()"
   ]
  },
  {
   "cell_type": "markdown",
   "id": "053df34e",
   "metadata": {},
   "source": [
    "### Start Dask Cluster"
   ]
  },
  {
   "cell_type": "markdown",
   "id": "8a9c1492",
   "metadata": {},
   "source": [
    "Here I wanted to set up a Dask cluster but I'm not sure how to configure it for more than one GPU."
   ]
  },
  {
   "cell_type": "code",
   "execution_count": null,
   "id": "b694a394",
   "metadata": {},
   "outputs": [],
   "source": [
    "import numpy as np\n",
    "import pandas as pd\n",
    "import dask_cudf\n",
    "\n",
    "from dask_cuda import LocalCUDACluster\n",
    "from dask.distributed import Client\n",
    "from dask_cuda.initialize import initialize\n",
    "import rmm\n",
    "\n",
    "visible_devices = [0] # FIXME: I want the maximum 2 GPUs per node\n",
    "temp_data_directory = '/tmp/' # define directory to buffer data\n",
    "device_memory_limit = 2**32 * .9 # use a fraction of 4GiB capacity to prevent memory errors\n",
    "\n",
    "cluster = LocalCUDACluster(\n",
    "    CUDA_VISIBLE_DEVICES=FIXME,\n",
    "    local_directory=FIXME,\n",
    "    protocol='ucx', # allows direct GPU-to-GPU data transfer over NVLink\n",
    "    enable_tcp_over_ucx=True,\n",
    "    enable_nvlink=True,\n",
    "    rmm_pool_size=device_memory_limit\n",
    ")\n",
    "client = Client(cluster)\n",
    "\n",
    "# Initialize RMM pool on ALL workers\n",
    "def _rmm_pool():\n",
    "    rmm.reinitialize()\n",
    "client.run(_rmm_pool)\n"
   ]
  },
  {
   "cell_type": "markdown",
   "id": "939c61b3",
   "metadata": {},
   "source": [
    "If it is not running already, I highly recommend setting up a terminal on the side to monitor the GPUs with the following command:\n",
    "\n",
    "`watch -n0.1 nvidia-smi --query-gpu=index,memory.used,memory.total,utilization.gpu --format=csv`"
   ]
  },
  {
   "cell_type": "code",
   "execution_count": null,
   "id": "534392b3",
   "metadata": {},
   "outputs": [],
   "source": [
    "time_read = time()\n",
    "\n",
    "ddf = pd.read_csv(\n",
    "    \"input_data/AQC00914594.csv\",\n",
    "    usecols=[\"STATION\", \"FIXME\", \"FIXME\", \"FIXME\", \"DATE\"],\n",
    "    dtype={\n",
    "        \"STATION\": \"object\",\n",
    "        \"FIXME\": FIXME,\n",
    "        \"FIXME\": FIXME,\n",
    "        \"FIXME\": FIXME,\n",
    "        \"DATE\": \"datetime64[ns]\",\n",
    "    },\n",
    "    na_values=[\"FIXME\"],\n",
    ")\n",
    "ddf = ddf.FIXME() # what's the method to ignore NA values?\n",
    "\n",
    "print('This took {:.3f} seconds'.format(time()-time_read))"
   ]
  },
  {
   "cell_type": "markdown",
   "id": "ff5c0c35",
   "metadata": {},
   "source": [
    "Let's check if the data was loaded correctly"
   ]
  },
  {
   "cell_type": "code",
   "execution_count": null,
   "id": "19479860",
   "metadata": {},
   "outputs": [],
   "source": [
    "ddf[[\"FIXME\", \"FIXME\", \"FIXME\"]].FIXME()"
   ]
  },
  {
   "cell_type": "markdown",
   "id": "82e5ae70",
   "metadata": {},
   "source": [
    "### Convert rainfall to centimetres"
   ]
  },
  {
   "cell_type": "markdown",
   "id": "7ee64351",
   "metadata": {},
   "source": [
    "How do you convert to centimetres again?"
   ]
  },
  {
   "cell_type": "code",
   "execution_count": null,
   "id": "fe903dcc",
   "metadata": {},
   "outputs": [],
   "source": [
    "ddf[\"cm\"] = ddf[\"FIXME\"] / FIXME * FIXME"
   ]
  },
  {
   "cell_type": "markdown",
   "id": "5c8253b3",
   "metadata": {},
   "source": [
    "## Filter Data"
   ]
  },
  {
   "cell_type": "markdown",
   "id": "f6201c9b",
   "metadata": {},
   "source": [
    "I'd like to visualise rainfall data from one day on a map...better filter my data here to the date 2021-01-01."
   ]
  },
  {
   "cell_type": "code",
   "execution_count": null,
   "id": "4c34f5a2",
   "metadata": {},
   "outputs": [],
   "source": [
    "# Pick the date using pd.Timestamp(2021, 1, 1)\n",
    "precip_one_day = ddf[FIXME] # how does the Boolean condition work here?\n",
    "\n",
    "# Calculate a result and send to host\n",
    "precip_one_day = precip_one_day.FIXME().to_FIXME()"
   ]
  },
  {
   "cell_type": "markdown",
   "id": "54e26a8b",
   "metadata": {},
   "source": [
    "## Visualise Big Data with Plotly"
   ]
  },
  {
   "cell_type": "markdown",
   "id": "9bbd4674",
   "metadata": {},
   "source": [
    "Hm... I'd quite like to make a geographic map like in this [example](https://plotly.com/python/scatter-plots-on-maps/#us-airports-map) but with the rainfall data in centimetres."
   ]
  },
  {
   "cell_type": "code",
   "execution_count": null,
   "id": "d76c5ec6",
   "metadata": {},
   "outputs": [],
   "source": [
    "import plotly.graph_objects as go\n",
    "\n",
    "# Create text column for the hovertext in the figure\n",
    "precip_one_day[\"TEXT\"] = (\n",
    "    precip_one_day[\"FIXME\"] + \"FIXME\"\n",
    ")\n",
    "\n",
    "fig = go.Figure([go.Scattergeo(\n",
    "    lon=precip_one_day['FIXME'],\n",
    "    lat=precip_one_day['FIXME'],\n",
    "    mode='markers',\n",
    "    marker_color=precip_one_day['DlySum'], # is there any way to make the markers look nicer?\n",
    "    text=precip_one_day[\"TEXT\"])])\n",
    "\n",
    "fig.update_layout(\n",
    "        title = 'USA Precipitation',\n",
    "        geo = dict(\n",
    "            scope='north america',\n",
    "            projection_type='albers usa',\n",
    "            landcolor = \"rgb(225, 225, 225)\",\n",
    "            subunitcolor = \"rgb(200, 200, 200)\",\n",
    "        ),\n",
    "    )\n",
    "\n",
    "fig.show()"
   ]
  },
  {
   "cell_type": "code",
   "execution_count": null,
   "id": "7448fe78",
   "metadata": {},
   "outputs": [],
   "source": [
    "##NOTE: don't change this cell, we will use this to keep track of how long your notebook takes to execute\n",
    "time_end = time()-time_start\n",
    "print('This notebook took {:.2f} seconds to run'.format(time_end))"
   ]
  },
  {
   "cell_type": "code",
   "execution_count": null,
   "id": "da131f72",
   "metadata": {},
   "outputs": [],
   "source": [
    "# Save to results folder\n",
    "\n",
    "import os\n",
    "user = os.getenv('USER')\n",
    "with open(\"results/{}-time.txt\".format(user), \"w\") as f:\n",
    "    f.write(str(time_end))\n",
    "\n",
    "fig.write_image(\"results/{}-image.png\".format(user))\n"
   ]
  },
  {
   "cell_type": "markdown",
   "id": "173c1325",
   "metadata": {},
   "source": [
    "#### Shut down the kernel"
   ]
  },
  {
   "cell_type": "code",
   "execution_count": null,
   "id": "6054318b",
   "metadata": {},
   "outputs": [],
   "source": [
    "import IPython\n",
    "app = IPython.Application.instance()\n",
    "app.kernel.do_shutdown(True)"
   ]
  },
  {
   "cell_type": "markdown",
   "id": "a8ff1109",
   "metadata": {},
   "source": [
    "<a href=\"https://www.nvidia.com/dli\"> <img src=\"images/DLI_Header.png\" alt=\"Header\" style=\"width: 400px;\"/> </a>"
   ]
  }
 ],
 "metadata": {
  "kernelspec": {
   "display_name": "conda_env (Conda)",
   "language": "python",
   "name": "sys_conda_env"
  },
  "language_info": {
   "codemirror_mode": {
    "name": "ipython",
    "version": 3
   },
   "file_extension": ".py",
   "mimetype": "text/x-python",
   "name": "python",
   "nbconvert_exporter": "python",
   "pygments_lexer": "ipython3",
   "version": "3.8.12"
  },
  "vscode": {
   "interpreter": {
    "hash": "31f2aee4e71d21fbe5cf8b01ff0e069b9275f58929596ceb00d14d90e3e16cd6"
   }
  }
 },
 "nbformat": 4,
 "nbformat_minor": 5
}
